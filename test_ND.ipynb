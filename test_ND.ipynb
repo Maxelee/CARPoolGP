{
 "cells": [
  {
   "cell_type": "code",
   "execution_count": 9,
   "metadata": {},
   "outputs": [],
   "source": [
    "import jax.numpy as jnp\n",
    "import numpy as np\n",
    "import matplotlib.pyplot as plt\n",
    "import pandas as pd\n",
    "import jax"
   ]
  },
  {
   "attachments": {},
   "cell_type": "markdown",
   "metadata": {},
   "source": [
    "# Lets make a little toy model"
   ]
  },
  {
   "cell_type": "code",
   "execution_count": 10,
   "metadata": {},
   "outputs": [],
   "source": [
    "# Lets read in only the most massive halo\n",
    "data = np.load('Data/first_1_SB28.npz')\n",
    "usable_data = np.nonzero(data['Y'])[0]\n",
    "Y_mean = np.log10(data['Y'][usable_data, 0])\n",
    "Mass = np.log10(data['M'][usable_data, 0]*1e10)\n",
    "\n",
    "params = np.load('Data/SB28_params.npy')[usable_data, :]\n",
    "params_ =pd.read_csv('Data/SB28_param_minmax.csv')\n",
    "\n",
    "X = np.vstack((params.T, Mass.T)).T\n",
    "for i, Xi in enumerate(X.T[:-1]):\n",
    "    if params_['LogFlag'][i] == 1:\n",
    "        X[:, i] = 10**X[:, i]\n",
    "X = (X - X.min(axis = 0)) / X.max(axis = 0)"
   ]
  },
  {
   "cell_type": "code",
   "execution_count": 11,
   "metadata": {},
   "outputs": [],
   "source": [
    "import jaxopt\n",
    "from tinygp import GaussianProcess, kernels, transforms\n",
    "\n",
    "\n",
    "def train_gp(nparams, build_gp_func, X, y):\n",
    "    @jax.jit\n",
    "    def loss(params):\n",
    "        return -build_gp_func(params, X).log_probability(y)\n",
    "\n",
    "    params = {\n",
    "        \"log_amp\": 0.0,\n",
    "        \"log_scale\" : -2*np.ones(29),\n",
    "        \"log_jitter\": -1.0,\n",
    "    }\n",
    "    solver = jaxopt.ScipyMinimize(fun=loss)\n",
    "    soln = solver.run(params)\n",
    "    return build_gp_func(soln.params, X)\n",
    "\n",
    "\n",
    "def build_gp_uncorr(params, X):\n",
    "    kernel = jnp.exp(params[\"log_amp\"])* transforms.Linear(jnp.exp(params[\"log_scale\"]), kernels.ExpSquared())\n",
    "    return GaussianProcess(kernel, X, diag=jnp.exp(params[\"log_jitter\"]))"
   ]
  },
  {
   "cell_type": "code",
   "execution_count": 12,
   "metadata": {},
   "outputs": [],
   "source": [
    "uncorr_gp = train_gp(29, build_gp_uncorr, X, Y_mean)"
   ]
  },
  {
   "cell_type": "code",
   "execution_count": 13,
   "metadata": {},
   "outputs": [],
   "source": [
    "sigma = np.sqrt(uncorr_gp.noise.diag[0])"
   ]
  },
  {
   "cell_type": "code",
   "execution_count": 14,
   "metadata": {},
   "outputs": [],
   "source": [
    "data = np.load('Data/first_1_1P.npz')\n",
    "T = np.log10(data['Y'])\n",
    "M = np.log10(data['M'].flatten()*1e10)\n",
    "data = np.load('Data/first_1_1P_extended.npz')\n",
    "T_extended = np.log10(data['Y'])[:, :, 0]\n",
    "M_extended = np.log10(data['M'][:, :, 0]*1e10).flatten()\n",
    "T_extended[:, 2] = T_extended[0, 2]\n",
    "M = np.concatenate((M, M_extended))\n",
    "params =pd.read_csv('Data/SB28_param_minmax.csv')\n",
    "param_vals = np.zeros((176, 28))\n",
    "for i in range(28):\n",
    "    param_vals[:, i] = params.loc[i, 'FiducialVal']\n",
    "start = 0\n",
    "for i in range(28):\n",
    "    if i<6:\n",
    "        nsims = 11\n",
    "    else:\n",
    "        nsims = 5\n",
    "    if bool(params.loc[i, 'LogFlag']):\n",
    "        ps = np.logspace(np.log10(params.loc[:, 'MinVal'][i]), np.log10(params.loc[:, 'MaxVal'][i]), nsims, endpoint=True)\n",
    "    else:\n",
    "        ps = np.linspace(params.loc[:, 'MinVal'][i], params.loc[:, 'MaxVal'][i], nsims, endpoint=True)\n",
    "    stop = start +nsims\n",
    "    param_vals[start:stop, i] = ps\n",
    "    start = stop    \n",
    "param_df = pd.DataFrame(param_vals, columns=np.array(params.loc[:, 'ParamName']))\n",
    "param_df['M'] = M\n",
    "param_df = (param_df - param_df.min(axis=0))/param_df.max(axis=0)\n",
    "\n",
    "model = uncorr_gp.predict(Y_mean, np.array(param_df))\n",
    "\n",
    "test_theta=np.array(param_df)"
   ]
  },
  {
   "cell_type": "code",
   "execution_count": 16,
   "metadata": {},
   "outputs": [],
   "source": [
    "def generate_theta(param_df,N, seed, d=7):\n",
    "    from scipy.stats import qmc\n",
    "    lbs = list(param_df.min())\n",
    "    ubs = list(param_df.max())\n",
    "    sampler = qmc.Sobol(d=d, scramble=True, seed=seed)\n",
    "    sample = sampler.random_base2(m=N)\n",
    "    theta = qmc.scale(sample, lbs, ubs).T\n",
    "    return theta\n",
    "def generate_model(theta, uncorr_gp, Y_mean, seed=1992, sigma=0.5):\n",
    "    T = uncorr_gp.predict(Y_mean, theta.T)\n",
    "    np.random.seed(seed)\n",
    "    data = np.random.normal(T, sigma, theta.shape[1])\n",
    "    intrinsic_noise = T - data\n",
    "    return data, intrinsic_noise\n",
    "def generate_surrogates(theta, intrinsic_noise,uncorr_gp, Y_mean, Groups=2**4):\n",
    "    ## Different split approach\n",
    "    from sklearn.cluster import AgglomerativeClustering\n",
    "    clustering = AgglomerativeClustering(int(Groups)).fit(theta.T)\n",
    "    labels = clustering.labels_\n",
    "    unique_ls, counts = np.unique(labels, return_counts=True)\n",
    "    theta_R = np.vstack([[np.mean(theta[:, labels==i], axis=1)]*c for i, c in zip(unique_ls, counts)])\n",
    "    noises = np.concatenate([intrinsic_noise[labels==i] for i, c in zip(unique_ls, counts)])\n",
    "    surrogate_raw = uncorr_gp.predict(Y_mean, theta_R)\n",
    "    surrogate_data = surrogate_raw + noises \n",
    "    return theta_R, surrogate_data, surrogate_raw"
   ]
  },
  {
   "cell_type": "code",
   "execution_count": 17,
   "metadata": {},
   "outputs": [],
   "source": [
    "theta = generate_theta(param_df, N=7, seed=1994, d=29)\n",
    "    \n",
    "data, intrinsic_noise = generate_model(theta, \n",
    "                                       uncorr_gp, \n",
    "                                       Y_mean, \n",
    "                                       seed=1992, sigma=sigma)\n",
    "\n",
    "theta_R, surrogate_data, surrogate_raw = generate_surrogates(\n",
    "                                                theta, \n",
    "                                                intrinsic_noise, \n",
    "                                                uncorr_gp,\n",
    "                                                Y_mean, \n",
    "                                                Groups=50)"
   ]
  },
  {
   "attachments": {},
   "cell_type": "markdown",
   "metadata": {},
   "source": [
    "Now we have the starting points, data, and surrogates/surrogate data. We can get a crack on then! "
   ]
  },
  {
   "attachments": {},
   "cell_type": "markdown",
   "metadata": {},
   "source": [
    "# Now we can use CARPoolGP"
   ]
  },
  {
   "cell_type": "code",
   "execution_count": 18,
   "metadata": {},
   "outputs": [],
   "source": [
    "from src import CARPoolSimulations\n",
    "\n",
    "# Create simulation objects and surrogate objects\n",
    "sims = CARPoolSimulations.Simulation()\n",
    "surrs = CARPoolSimulations.Simulation()\n",
    "\n",
    "# Set the parameters and quantities for these simulations\n",
    "sims.parameters = theta; sims.quantities=data\n",
    "surrs.parameters = theta_R; surrs.quantities=surrogate_data"
   ]
  },
  {
   "cell_type": "code",
   "execution_count": 19,
   "metadata": {},
   "outputs": [
    {
     "ename": "ValueError",
     "evalue": "cannot reshape array of size 1450 into shape (128)",
     "output_type": "error",
     "traceback": [
      "\u001b[0;31m---------------------------------------------------------------------------\u001b[0m",
      "\u001b[0;31mValueError\u001b[0m                                Traceback (most recent call last)",
      "Cell \u001b[0;32mIn[19], line 4\u001b[0m\n\u001b[1;32m      1\u001b[0m \u001b[39mfrom\u001b[39;00m \u001b[39msrc\u001b[39;00m \u001b[39mimport\u001b[39;00m CARPoolEmulator\n\u001b[1;32m      3\u001b[0m \u001b[39m#Build an emulator \u001b[39;00m\n\u001b[0;32m----> 4\u001b[0m emu \u001b[39m=\u001b[39m CARPoolEmulator\u001b[39m.\u001b[39;49mEmulator(sims, surrs)\n\u001b[1;32m      6\u001b[0m \u001b[39m#Initialize some set of parameters (or default)\u001b[39;00m\n\u001b[1;32m      7\u001b[0m params \u001b[39m=\u001b[39m {\u001b[39m\"\u001b[39m\u001b[39mlog_scaleV\u001b[39m\u001b[39m\"\u001b[39m:\u001b[39m0.1\u001b[39m,\n\u001b[1;32m      8\u001b[0m           \u001b[39m\"\u001b[39m\u001b[39mlog_ampV\u001b[39m\u001b[39m\"\u001b[39m:\u001b[39m1.0\u001b[39m,\n\u001b[1;32m      9\u001b[0m           \u001b[39m\"\u001b[39m\u001b[39mlog_scaleW\u001b[39m\u001b[39m\"\u001b[39m:\u001b[39m1.0\u001b[39m,\n\u001b[0;32m   (...)\u001b[0m\n\u001b[1;32m     17\u001b[0m           \u001b[39m\"\u001b[39m\u001b[39mlog_jitterW\u001b[39m\u001b[39m\"\u001b[39m:\u001b[39m1.0\u001b[39m,\n\u001b[1;32m     18\u001b[0m           \u001b[39m\"\u001b[39m\u001b[39mlog_mean\u001b[39m\u001b[39m\"\u001b[39m:\u001b[39m0.0\u001b[39m}\n",
      "File \u001b[0;32m~/CPGP/src/CARPoolEmulator.py:28\u001b[0m, in \u001b[0;36mEmulator.__init__\u001b[0;34m(self, Simulations, Surrogates)\u001b[0m\n\u001b[1;32m     26\u001b[0m \u001b[39mself\u001b[39m\u001b[39m.\u001b[39mSurrogates \u001b[39m=\u001b[39m Surrogates\n\u001b[1;32m     27\u001b[0m \u001b[39mself\u001b[39m\u001b[39m.\u001b[39mparam_dimensions \u001b[39m=\u001b[39m \u001b[39mself\u001b[39m\u001b[39m.\u001b[39mSimulations\u001b[39m.\u001b[39mparameter_dimensions\n\u001b[0;32m---> 28\u001b[0m \u001b[39mself\u001b[39m\u001b[39m.\u001b[39mSurrogate_locs \u001b[39m=\u001b[39m np\u001b[39m.\u001b[39;49munique(Surrogates\u001b[39m.\u001b[39;49mparameters, axis\u001b[39m=\u001b[39;49m\u001b[39m0\u001b[39;49m)\u001b[39m.\u001b[39;49mreshape(\u001b[39m-\u001b[39;49m\u001b[39m1\u001b[39;49m, \u001b[39mself\u001b[39;49m\u001b[39m.\u001b[39;49mparam_dimensions)\n\u001b[1;32m     29\u001b[0m \u001b[39mself\u001b[39m\u001b[39m.\u001b[39mparams \u001b[39m=\u001b[39m \u001b[39mNone\u001b[39;00m\n",
      "\u001b[0;31mValueError\u001b[0m: cannot reshape array of size 1450 into shape (128)"
     ]
    }
   ],
   "source": [
    "from src import CARPoolEmulator\n",
    "\n",
    "#Build an emulator \n",
    "emu = CARPoolEmulator.Emulator(sims, surrs)\n",
    "\n",
    "#Initialize some set of parameters (or default)\n",
    "params = {\"log_scaleV\":0.1,\n",
    "          \"log_ampV\":1.0,\n",
    "          \"log_scaleW\":1.0,\n",
    "          \"log_ampW\":1.0,\n",
    "          \"log_scaleX\":0.0,\n",
    "          \"log_ampX\":0.0,                \n",
    "          \"log_scaleM\":0.0,\n",
    "          \"log_ampM\":0.0,\n",
    "          \"log_deltaP\":0.0,\n",
    "          \"log_jitterV\":1.0,\n",
    "          \"log_jitterW\":1.0,\n",
    "          \"log_mean\":0.0}\n",
    "\n",
    "# Train the emulator\n",
    "emu.train(learning_rate=1e-3, max_iterations=1000)\n",
    "\n",
    "# now emulate! \n",
    "pred_mean, pred_var = emu.predict(theta)"
   ]
  },
  {
   "cell_type": "code",
   "execution_count": 6,
   "metadata": {},
   "outputs": [
    {
     "data": {
      "text/plain": [
       "[<matplotlib.lines.Line2D at 0x163f07520>]"
      ]
     },
     "execution_count": 6,
     "metadata": {},
     "output_type": "execute_result"
    },
    {
     "data": {
      "image/png": "[encoded data removed]",
      "text/plain": [
       "<Figure size 640x480 with 1 Axes>"
      ]
     },
     "metadata": {},
     "output_type": "display_data"
    }
   ],
   "source": [
    "\n",
    "std = np.sqrt(np.diag(pred_var))\n",
    "plt.fill_between(np.arange(1001), pred_mean - std, pred_mean+std)\n",
    "plt.plot(Y, 'k')\n"
   ]
  },
  {
   "attachments": {},
   "cell_type": "markdown",
   "metadata": {},
   "source": [
    "# Active learning approach"
   ]
  },
  {
   "cell_type": "code",
   "execution_count": 21,
   "metadata": {},
   "outputs": [
    {
     "data": {
      "text/plain": [
       "[<matplotlib.lines.Line2D at 0x1646b5ea0>]"
      ]
     },
     "execution_count": 21,
     "metadata": {},
     "output_type": "execute_result"
    },
    {
     "data": {
      "image/png": "[encoded data removed]",
      "text/plain": [
       "<Figure size 640x480 with 1 Axes>"
      ]
     },
     "metadata": {},
     "output_type": "display_data"
    }
   ],
   "source": [
    "from src import CARPoolEmulator\n",
    "\n",
    "# Generate an active learning model\n",
    "model = CARPoolEmulator.ActiveLearning(sims, surrs, theta, Domain[0], Domain[1])\n",
    "\n",
    "# Initialize the training\n",
    "best_params = model.train(learning_rate=1e-3, max_iterations=100)\n",
    "pred_test, pred_var = model.predict(theta)\n",
    "plt.plot(pred_test)\n",
    "plt.plot(Y)"
   ]
  },
  {
   "cell_type": "code",
   "execution_count": 22,
   "metadata": {},
   "outputs": [],
   "source": [
    "# Run an active learning step to find the next state (Ngrid is for 2**N)\n",
    "next_thetas, next_surrogates = model.active_learning_step(num_new=6, Ngrid=5)"
   ]
  },
  {
   "attachments": {},
   "cell_type": "markdown",
   "metadata": {},
   "source": [
    "In practice we would now run simulations at these new points, but lets say we have a model that is the simulation. then we can update the simulations and re train"
   ]
  },
  {
   "cell_type": "code",
   "execution_count": 23,
   "metadata": {},
   "outputs": [],
   "source": [
    "next_data, next_noise = model_data(next_thetas)\n",
    "next_surrogate_data = model_data(next_surrogates, next_noise)\n",
    "model.Simulations.update(next_thetas, next_data)\n",
    "model.Surrogates.update(next_surrogates, next_surrogate_data)\n",
    "best_params = model.train(learning_rate=1e-3, max_iterations=100)\n",
    "pred_test, pred_var = model.predict(theta)\n",
    "plt.plot(pred_test)\n",
    "plt.plot(Y)"
   ]
  },
  {
   "cell_type": "code",
   "execution_count": 26,
   "metadata": {},
   "outputs": [],
   "source": [
    "# Now we can iteratively do this:\n",
    "pred_tests = []\n",
    "pred_vars = []\n",
    "\n",
    "# Create simulation objects and surrogate objects\n",
    "sims = CARPoolSimulations.Simulation()\n",
    "surrs = CARPoolSimulations.Simulation()\n",
    "\n",
    "# Set the parameters and quantities for these simulations\n",
    "sims.parameters = theta_Q; sims.quantities=Q\n",
    "surrs.parameters = theta_R; surrs.quantities=R\n",
    "\n",
    "# Generate an active learning model\n",
    "model = CARPoolEmulator.ActiveLearning(sims, surrs, theta, Domain[0], Domain[1])\n",
    "\n",
    "# Initialize the training\n",
    "best_params = model.train(learning_rate=1e-3, max_iterations=1000)\n",
    "pred_test, pred_var = model.predict(theta)\n",
    "pred_tests.append(pred_test)\n",
    "pred_vars.append(pred_var)\n",
    "\n",
    "for i in range(4):\n",
    "    # Run an active learning step to find the next state (Ngrid is for 2**N)\n",
    "    next_thetas, next_surrogates = model.active_learning_step(num_new=20, Ngrid=7)   \n",
    "\n",
    "    next_data, next_noise = model_data(next_thetas)\n",
    "    next_surrogate_data   = model_data(next_surrogates, next_noise)\n",
    "\n",
    "    model.Simulations.update(next_thetas, next_data)\n",
    "    model.Surrogates.update(next_surrogates, next_surrogate_data)\n",
    "\n",
    "    best_params = model.train(best_params, learning_rate=1e-3, max_iterations=1000)\n",
    "    \n",
    "    pred_test, pred_var = model.predict(theta)\n",
    "    pred_tests.append(pred_test)\n",
    "    pred_vars.append(pred_var)"
   ]
  },
  {
   "cell_type": "code",
   "execution_count": null,
   "metadata": {},
   "outputs": [],
   "source": []
  }
 ],
 "metadata": {
  "kernelspec": {
   "display_name": "jax",
   "language": "python",
   "name": "python3"
  },
  "language_info": {
   "codemirror_mode": {
    "name": "ipython",
    "version": 3
   },
   "file_extension": ".py",
   "mimetype": "text/x-python",
   "name": "python",
   "nbconvert_exporter": "python",
   "pygments_lexer": "ipython3",
   "version": "3.10.8"
  },
  "orig_nbformat": 4
 },
 "nbformat": 4,
 "nbformat_minor": 2
}
